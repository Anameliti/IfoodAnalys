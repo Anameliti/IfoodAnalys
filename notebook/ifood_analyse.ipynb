{
 "cells": [
  {
   "cell_type": "markdown",
   "metadata": {},
   "source": [
    "## Desafio Ifood"
   ]
  },
  {
   "cell_type": "markdown",
   "metadata": {},
   "source": [
    "O conjunto de dados é composto por clientes da empresa Ifood com dados sobre:\n",
    "- Perfis de clientes\n",
    "- Preferências do produto\n",
    "- Sucessos/fracassos da campanha\n",
    "- Desempenho do canal\n",
    "\n",
    "Problema de Negócio:\n",
    "\n",
    "`Como podemos aumentar o gasto médio dos clientes em nossa plataforma, utilizando as informações de perfil de clientes (renda, estado civil, filhos, etc.)?`\n"
   ]
  },
  {
   "cell_type": "markdown",
   "metadata": {},
   "source": [
    "## Importando libs e os dados ##"
   ]
  },
  {
   "cell_type": "code",
   "execution_count": 1,
   "metadata": {},
   "outputs": [],
   "source": [
    "#Importando bibioteca para manipulação de dados\n",
    "\n",
    "import pandas as pd \n",
    "\n",
    "#Importando biblioteca para operações matematicas\n",
    "\n",
    "import numpy as np \n",
    "\n",
    "#Importando biblotecas para auxiliar na visualização dos dados\n",
    "\n",
    "import matplotlib.pyplot as plt \n",
    "import seaborn as sns "
   ]
  },
  {
   "cell_type": "code",
   "execution_count": 2,
   "metadata": {},
   "outputs": [
    {
     "data": {
      "text/html": [
       "<div>\n",
       "<style scoped>\n",
       "    .dataframe tbody tr th:only-of-type {\n",
       "        vertical-align: middle;\n",
       "    }\n",
       "\n",
       "    .dataframe tbody tr th {\n",
       "        vertical-align: top;\n",
       "    }\n",
       "\n",
       "    .dataframe thead th {\n",
       "        text-align: right;\n",
       "    }\n",
       "</style>\n",
       "<table border=\"1\" class=\"dataframe\">\n",
       "  <thead>\n",
       "    <tr style=\"text-align: right;\">\n",
       "      <th></th>\n",
       "      <th>Unnamed: 0</th>\n",
       "      <th>Income</th>\n",
       "      <th>Kidhome</th>\n",
       "      <th>Teenhome</th>\n",
       "      <th>Recency</th>\n",
       "      <th>MntWines</th>\n",
       "      <th>MntFruits</th>\n",
       "      <th>MntMeatProducts</th>\n",
       "      <th>MntFishProducts</th>\n",
       "      <th>MntSweetProducts</th>\n",
       "      <th>...</th>\n",
       "      <th>education_Graduation</th>\n",
       "      <th>education_Master</th>\n",
       "      <th>education_PhD</th>\n",
       "      <th>MntTotal</th>\n",
       "      <th>MntRegularProds</th>\n",
       "      <th>AcceptedCmpOverall</th>\n",
       "      <th>marital_status</th>\n",
       "      <th>education_level</th>\n",
       "      <th>kids</th>\n",
       "      <th>expenses</th>\n",
       "    </tr>\n",
       "  </thead>\n",
       "  <tbody>\n",
       "    <tr>\n",
       "      <th>0</th>\n",
       "      <td>0</td>\n",
       "      <td>58138.0</td>\n",
       "      <td>0</td>\n",
       "      <td>0</td>\n",
       "      <td>58</td>\n",
       "      <td>635</td>\n",
       "      <td>88</td>\n",
       "      <td>546</td>\n",
       "      <td>172</td>\n",
       "      <td>88</td>\n",
       "      <td>...</td>\n",
       "      <td>3.0</td>\n",
       "      <td>NaN</td>\n",
       "      <td>NaN</td>\n",
       "      <td>1529</td>\n",
       "      <td>1441</td>\n",
       "      <td>0</td>\n",
       "      <td>Single</td>\n",
       "      <td>Graduation</td>\n",
       "      <td>0</td>\n",
       "      <td>1529</td>\n",
       "    </tr>\n",
       "    <tr>\n",
       "      <th>1</th>\n",
       "      <td>1</td>\n",
       "      <td>46344.0</td>\n",
       "      <td>1</td>\n",
       "      <td>1</td>\n",
       "      <td>38</td>\n",
       "      <td>11</td>\n",
       "      <td>1</td>\n",
       "      <td>6</td>\n",
       "      <td>2</td>\n",
       "      <td>1</td>\n",
       "      <td>...</td>\n",
       "      <td>3.0</td>\n",
       "      <td>NaN</td>\n",
       "      <td>NaN</td>\n",
       "      <td>21</td>\n",
       "      <td>15</td>\n",
       "      <td>0</td>\n",
       "      <td>Single</td>\n",
       "      <td>Graduation</td>\n",
       "      <td>2</td>\n",
       "      <td>21</td>\n",
       "    </tr>\n",
       "    <tr>\n",
       "      <th>2</th>\n",
       "      <td>2</td>\n",
       "      <td>71613.0</td>\n",
       "      <td>0</td>\n",
       "      <td>0</td>\n",
       "      <td>26</td>\n",
       "      <td>426</td>\n",
       "      <td>49</td>\n",
       "      <td>127</td>\n",
       "      <td>111</td>\n",
       "      <td>21</td>\n",
       "      <td>...</td>\n",
       "      <td>3.0</td>\n",
       "      <td>NaN</td>\n",
       "      <td>NaN</td>\n",
       "      <td>734</td>\n",
       "      <td>692</td>\n",
       "      <td>0</td>\n",
       "      <td>Together</td>\n",
       "      <td>Graduation</td>\n",
       "      <td>0</td>\n",
       "      <td>734</td>\n",
       "    </tr>\n",
       "    <tr>\n",
       "      <th>3</th>\n",
       "      <td>3</td>\n",
       "      <td>26646.0</td>\n",
       "      <td>1</td>\n",
       "      <td>0</td>\n",
       "      <td>26</td>\n",
       "      <td>11</td>\n",
       "      <td>4</td>\n",
       "      <td>20</td>\n",
       "      <td>10</td>\n",
       "      <td>3</td>\n",
       "      <td>...</td>\n",
       "      <td>3.0</td>\n",
       "      <td>NaN</td>\n",
       "      <td>NaN</td>\n",
       "      <td>48</td>\n",
       "      <td>43</td>\n",
       "      <td>0</td>\n",
       "      <td>Together</td>\n",
       "      <td>Graduation</td>\n",
       "      <td>1</td>\n",
       "      <td>48</td>\n",
       "    </tr>\n",
       "    <tr>\n",
       "      <th>4</th>\n",
       "      <td>4</td>\n",
       "      <td>58293.0</td>\n",
       "      <td>1</td>\n",
       "      <td>0</td>\n",
       "      <td>94</td>\n",
       "      <td>173</td>\n",
       "      <td>43</td>\n",
       "      <td>118</td>\n",
       "      <td>46</td>\n",
       "      <td>27</td>\n",
       "      <td>...</td>\n",
       "      <td>NaN</td>\n",
       "      <td>NaN</td>\n",
       "      <td>5.0</td>\n",
       "      <td>407</td>\n",
       "      <td>392</td>\n",
       "      <td>0</td>\n",
       "      <td>Married</td>\n",
       "      <td>PhD</td>\n",
       "      <td>1</td>\n",
       "      <td>407</td>\n",
       "    </tr>\n",
       "  </tbody>\n",
       "</table>\n",
       "<p>5 rows × 44 columns</p>\n",
       "</div>"
      ],
      "text/plain": [
       "   Unnamed: 0   Income  Kidhome  Teenhome  Recency  MntWines  MntFruits  \\\n",
       "0           0  58138.0        0         0       58       635         88   \n",
       "1           1  46344.0        1         1       38        11          1   \n",
       "2           2  71613.0        0         0       26       426         49   \n",
       "3           3  26646.0        1         0       26        11          4   \n",
       "4           4  58293.0        1         0       94       173         43   \n",
       "\n",
       "   MntMeatProducts  MntFishProducts  MntSweetProducts  ...  \\\n",
       "0              546              172                88  ...   \n",
       "1                6                2                 1  ...   \n",
       "2              127              111                21  ...   \n",
       "3               20               10                 3  ...   \n",
       "4              118               46                27  ...   \n",
       "\n",
       "   education_Graduation  education_Master  education_PhD  MntTotal  \\\n",
       "0                   3.0               NaN            NaN      1529   \n",
       "1                   3.0               NaN            NaN        21   \n",
       "2                   3.0               NaN            NaN       734   \n",
       "3                   3.0               NaN            NaN        48   \n",
       "4                   NaN               NaN            5.0       407   \n",
       "\n",
       "   MntRegularProds  AcceptedCmpOverall  marital_status  education_level  kids  \\\n",
       "0             1441                   0          Single       Graduation     0   \n",
       "1               15                   0          Single       Graduation     2   \n",
       "2              692                   0        Together       Graduation     0   \n",
       "3               43                   0        Together       Graduation     1   \n",
       "4              392                   0         Married              PhD     1   \n",
       "\n",
       "   expenses  \n",
       "0      1529  \n",
       "1        21  \n",
       "2       734  \n",
       "3        48  \n",
       "4       407  \n",
       "\n",
       "[5 rows x 44 columns]"
      ]
     },
     "execution_count": 2,
     "metadata": {},
     "output_type": "execute_result"
    }
   ],
   "source": [
    "#Carregando os dados e lendo as primeiras linhas para analisar quais tipos de dados que temos.\n",
    "\n",
    "df_ifood = pd.read_csv(r'C:\\Users\\Ana Carolina Meliti\\OneDrive\\Área de Trabalho\\Estatística Descriti\\mkt_data.csv')\n",
    "df_ifood.head(5)"
   ]
  },
  {
   "cell_type": "markdown",
   "metadata": {},
   "source": [
    "### Análise Exploratória (EDA) ###"
   ]
  },
  {
   "cell_type": "code",
   "execution_count": 3,
   "metadata": {},
   "outputs": [
    {
     "name": "stdout",
     "output_type": "stream",
     "text": [
      "<class 'pandas.core.frame.DataFrame'>\n",
      "RangeIndex: 2205 entries, 0 to 2204\n",
      "Data columns (total 44 columns):\n",
      " #   Column                Non-Null Count  Dtype  \n",
      "---  ------                --------------  -----  \n",
      " 0   Unnamed: 0            2205 non-null   int64  \n",
      " 1   Income                2205 non-null   float64\n",
      " 2   Kidhome               2205 non-null   int64  \n",
      " 3   Teenhome              2205 non-null   int64  \n",
      " 4   Recency               2205 non-null   int64  \n",
      " 5   MntWines              2205 non-null   int64  \n",
      " 6   MntFruits             2205 non-null   int64  \n",
      " 7   MntMeatProducts       2205 non-null   int64  \n",
      " 8   MntFishProducts       2205 non-null   int64  \n",
      " 9   MntSweetProducts      2205 non-null   int64  \n",
      " 10  MntGoldProds          2205 non-null   int64  \n",
      " 11  NumDealsPurchases     2205 non-null   int64  \n",
      " 12  NumWebPurchases       2205 non-null   int64  \n",
      " 13  NumCatalogPurchases   2205 non-null   int64  \n",
      " 14  NumStorePurchases     2205 non-null   int64  \n",
      " 15  NumWebVisitsMonth     2205 non-null   int64  \n",
      " 16  AcceptedCmp3          2205 non-null   int64  \n",
      " 17  AcceptedCmp4          2205 non-null   int64  \n",
      " 18  AcceptedCmp5          2205 non-null   int64  \n",
      " 19  AcceptedCmp1          2205 non-null   int64  \n",
      " 20  AcceptedCmp2          2205 non-null   int64  \n",
      " 21  Complain              2205 non-null   int64  \n",
      " 22  Z_CostContact         2205 non-null   int64  \n",
      " 23  Z_Revenue             2205 non-null   int64  \n",
      " 24  Response              2205 non-null   int64  \n",
      " 25  Age                   2205 non-null   int64  \n",
      " 26  Customer_Days         2205 non-null   int64  \n",
      " 27  marital_Divorced      230 non-null    float64\n",
      " 28  marital_Married       854 non-null    float64\n",
      " 29  marital_Single        477 non-null    float64\n",
      " 30  marital_Together      568 non-null    float64\n",
      " 31  marital_Widow         76 non-null     float64\n",
      " 32  education_2n Cycle    198 non-null    float64\n",
      " 33  education_Basic       54 non-null     float64\n",
      " 34  education_Graduation  1113 non-null   float64\n",
      " 35  education_Master      364 non-null    float64\n",
      " 36  education_PhD         476 non-null    float64\n",
      " 37  MntTotal              2205 non-null   int64  \n",
      " 38  MntRegularProds       2205 non-null   int64  \n",
      " 39  AcceptedCmpOverall    2205 non-null   int64  \n",
      " 40  marital_status        2205 non-null   object \n",
      " 41  education_level       2205 non-null   object \n",
      " 42  kids                  2205 non-null   int64  \n",
      " 43  expenses              2205 non-null   int64  \n",
      "dtypes: float64(11), int64(31), object(2)\n",
      "memory usage: 758.1+ KB\n"
     ]
    }
   ],
   "source": [
    "df_ifood.info()\n",
    "\n",
    "#Verificando a quantidade de linhas e colunas, temos 44 colunas com total de 2205 linhas\n",
    "#"
   ]
  },
  {
   "cell_type": "markdown",
   "metadata": {},
   "source": [
    "### Identificando e corrigindo valores duplicados e nulos"
   ]
  },
  {
   "cell_type": "markdown",
   "metadata": {},
   "source": [
    "Não há valores duplicados"
   ]
  },
  {
   "cell_type": "code",
   "execution_count": 4,
   "metadata": {},
   "outputs": [
    {
     "data": {
      "text/plain": [
       "0"
      ]
     },
     "execution_count": 4,
     "metadata": {},
     "output_type": "execute_result"
    }
   ],
   "source": [
    "df_ifood.duplicated().sum() #verificando se há valores duplicados"
   ]
  },
  {
   "cell_type": "markdown",
   "metadata": {},
   "source": [
    "Identifiquei que há alguns nulos nas colunas: \n",
    "\n",
    "'education_Basic';'marital_Widow','education_2n Cycle', 'marital_Divorced','education_Master', 'education_PhD', 'marital_Single', 'marital_Together', 'marital_Married', 'education_Graduation'.\n",
    "\n",
    "Todas são variáveis categóricas nominais."
   ]
  },
  {
   "cell_type": "code",
   "execution_count": 5,
   "metadata": {},
   "outputs": [
    {
     "data": {
      "text/plain": [
       "education_Basic         2151\n",
       "marital_Widow           2129\n",
       "education_2n Cycle      2007\n",
       "marital_Divorced        1975\n",
       "education_Master        1841\n",
       "education_PhD           1729\n",
       "marital_Single          1728\n",
       "marital_Together        1637\n",
       "marital_Married         1351\n",
       "education_Graduation    1092\n",
       "Response                   0\n",
       "Age                        0\n",
       "Customer_Days              0\n",
       "Unnamed: 0                 0\n",
       "Income                     0\n",
       "MntTotal                   0\n",
       "MntRegularProds            0\n",
       "AcceptedCmpOverall         0\n",
       "marital_status             0\n",
       "education_level            0\n",
       "kids                       0\n",
       "Z_Revenue                  0\n",
       "Z_CostContact              0\n",
       "Complain                   0\n",
       "MntGoldProds               0\n",
       "Kidhome                    0\n",
       "Teenhome                   0\n",
       "Recency                    0\n",
       "MntWines                   0\n",
       "MntFruits                  0\n",
       "MntMeatProducts            0\n",
       "MntFishProducts            0\n",
       "MntSweetProducts           0\n",
       "NumDealsPurchases          0\n",
       "AcceptedCmp2               0\n",
       "NumWebPurchases            0\n",
       "NumCatalogPurchases        0\n",
       "NumStorePurchases          0\n",
       "NumWebVisitsMonth          0\n",
       "AcceptedCmp3               0\n",
       "AcceptedCmp4               0\n",
       "AcceptedCmp5               0\n",
       "AcceptedCmp1               0\n",
       "expenses                   0\n",
       "dtype: int64"
      ]
     },
     "metadata": {},
     "output_type": "display_data"
    }
   ],
   "source": [
    "nulos = df_ifood.isna().sum().sort_values(ascending=False) #verificando se há valores nulos \n",
    "display(nulos)"
   ]
  },
  {
   "cell_type": "markdown",
   "metadata": {},
   "source": [
    "Identifiquei algo que é incrível para nós, pois os valores faltantes dizem muita coisa, por exemplo a coluna marital_Single preenchida indica que este cliente é solteiro, logo ele não pode ser outro estado civil, o que na nossa base indica o NaN (ausentes em português) nas demais colunas, neste caso, faz total sentido transformarmos essas variaveis em tipos booleanos para facilitar nossa análise descritiva.\n",
    "\n",
    "Outra coisa interessante, temos a coluna \"Unnamed\", não é identificada, preferi dropar ela por não conter valor e não ser especificada."
   ]
  },
  {
   "cell_type": "code",
   "execution_count": 6,
   "metadata": {},
   "outputs": [],
   "source": [
    "trata_nulos = ['marital_Widow',\n",
    "          'marital_Divorced', \n",
    "          'marital_Together', \n",
    "          'marital_Single',\n",
    "          'marital_Married',\n",
    "          'education_2n Cycle',\n",
    "          'education_Basic',\n",
    "          'education_Graduation',\n",
    "          'education_Master',\n",
    "          'education_PhD'\n",
    "          ] #criação da lista para transformação em booelanos"
   ]
  },
  {
   "cell_type": "code",
   "execution_count": 7,
   "metadata": {},
   "outputs": [],
   "source": [
    "#transformando em booleanos, e usando o np.where para ele colocar 0 para não e 1 para sim\n",
    "\n",
    "for item in trata_nulos:\n",
    "  df_ifood[\"booleano\"+str(item)] = np.where(df_ifood[item].isnull(), 0, 1)"
   ]
  },
  {
   "cell_type": "code",
   "execution_count": 8,
   "metadata": {},
   "outputs": [],
   "source": [
    "df_ifood = df_ifood.drop(columns=['Unnamed: 0']) #Removendo a coluna Unnamed"
   ]
  },
  {
   "cell_type": "markdown",
   "metadata": {},
   "source": [
    "### Análise descritiva ###"
   ]
  },
  {
   "cell_type": "markdown",
   "metadata": {},
   "source": [
    "Mapeando a média, mediana, percentis, mínimo e máximo de cada uma das colunas numéricas."
   ]
  },
  {
   "cell_type": "code",
   "execution_count": 9,
   "metadata": {},
   "outputs": [
    {
     "data": {
      "text/plain": [
       "Index(['Income', 'Kidhome', 'Teenhome', 'Recency', 'MntWines', 'MntFruits',\n",
       "       'MntMeatProducts', 'MntFishProducts', 'MntSweetProducts',\n",
       "       'MntGoldProds', 'NumDealsPurchases', 'NumWebPurchases',\n",
       "       'NumCatalogPurchases', 'NumStorePurchases', 'NumWebVisitsMonth',\n",
       "       'AcceptedCmp3', 'AcceptedCmp4', 'AcceptedCmp5', 'AcceptedCmp1',\n",
       "       'AcceptedCmp2', 'Complain', 'Z_CostContact', 'Z_Revenue', 'Response',\n",
       "       'Age', 'Customer_Days', 'marital_Divorced', 'marital_Married',\n",
       "       'marital_Single', 'marital_Together', 'marital_Widow',\n",
       "       'education_2n Cycle', 'education_Basic', 'education_Graduation',\n",
       "       'education_Master', 'education_PhD', 'MntTotal', 'MntRegularProds',\n",
       "       'AcceptedCmpOverall', 'kids', 'expenses', 'booleanomarital_Widow',\n",
       "       'booleanomarital_Divorced', 'booleanomarital_Together',\n",
       "       'booleanomarital_Single', 'booleanomarital_Married',\n",
       "       'booleanoeducation_2n Cycle', 'booleanoeducation_Basic',\n",
       "       'booleanoeducation_Graduation', 'booleanoeducation_Master',\n",
       "       'booleanoeducation_PhD'],\n",
       "      dtype='object')"
      ]
     },
     "execution_count": 9,
     "metadata": {},
     "output_type": "execute_result"
    }
   ],
   "source": [
    "numericos = ['int16', 'int32', 'int64', 'float16', 'float32', 'float64'] #criando uma lista para mostrar somente as colunas numéricas para facilitar a identificação pelo tipo.\n",
    "df_ifood.select_dtypes(include=numericos).columns "
   ]
  },
  {
   "cell_type": "markdown",
   "metadata": {},
   "source": [
    "Preferi separar por grupos para identificamos a análise descritiva das nossa variáveis numéricas:\n",
    "\n",
    "- Marital Status = 'booleanomarital_Widow','booleanomarital_Divorced', 'booleanomarital_Together','booleanomarital_Single', 'booleanomarital_Married',\n",
    "- Education_status = 'booleanoeducation_2n Cycle', 'booleanoeducation_Basic','booleanoeducation_Graduation', 'booleanoeducation_Master','booleanoeducation_PhD'\n",
    "- Purchases: 'NumDealsPurchases', 'NumWebPurchases', 'NumCatalogPurchases', 'NumStorePurchases'\n",
    "- Customer: 'Income', 'Kidhome', 'Teenhome', 'Recency','Age', 'Customer_Days', \n",
    "- Gastos: 'MntWines', 'MntFruits','MntMeatProducts', 'MntFishProducts', 'MntSweetProducts','MntGoldProds', 'MntTotal'\n",
    "- Campanha: 'AcceptedCmp3', 'AcceptedCmp4', 'AcceptedCmp5', 'AcceptedCmp1','AcceptedCmp2', 'Complain', 'Z_CostContact', 'Z_Revenue', 'Response', 'AcceptedCmpOverall', "
   ]
  },
  {
   "cell_type": "markdown",
   "metadata": {},
   "source": [
    "Diante disso, vamos responder as perguntas: Qual é a média, mediana, 25 percentil, 75 percentil, mínimo e máximo de cada uma das colunas numéricas? "
   ]
  },
  {
   "cell_type": "code",
   "execution_count": 10,
   "metadata": {},
   "outputs": [
    {
     "data": {
      "text/html": [
       "<div>\n",
       "<style scoped>\n",
       "    .dataframe tbody tr th:only-of-type {\n",
       "        vertical-align: middle;\n",
       "    }\n",
       "\n",
       "    .dataframe tbody tr th {\n",
       "        vertical-align: top;\n",
       "    }\n",
       "\n",
       "    .dataframe thead th {\n",
       "        text-align: right;\n",
       "    }\n",
       "</style>\n",
       "<table border=\"1\" class=\"dataframe\">\n",
       "  <thead>\n",
       "    <tr style=\"text-align: right;\">\n",
       "      <th></th>\n",
       "      <th>Income</th>\n",
       "      <th>Kidhome</th>\n",
       "      <th>Teenhome</th>\n",
       "      <th>Recency</th>\n",
       "      <th>MntWines</th>\n",
       "      <th>MntFruits</th>\n",
       "      <th>MntMeatProducts</th>\n",
       "      <th>MntFishProducts</th>\n",
       "      <th>MntSweetProducts</th>\n",
       "      <th>MntGoldProds</th>\n",
       "      <th>...</th>\n",
       "      <th>booleanomarital_Widow</th>\n",
       "      <th>booleanomarital_Divorced</th>\n",
       "      <th>booleanomarital_Together</th>\n",
       "      <th>booleanomarital_Single</th>\n",
       "      <th>booleanomarital_Married</th>\n",
       "      <th>booleanoeducation_2n Cycle</th>\n",
       "      <th>booleanoeducation_Basic</th>\n",
       "      <th>booleanoeducation_Graduation</th>\n",
       "      <th>booleanoeducation_Master</th>\n",
       "      <th>booleanoeducation_PhD</th>\n",
       "    </tr>\n",
       "  </thead>\n",
       "  <tbody>\n",
       "    <tr>\n",
       "      <th>count</th>\n",
       "      <td>2205.0000</td>\n",
       "      <td>2205.0000</td>\n",
       "      <td>2205.0000</td>\n",
       "      <td>2205.0000</td>\n",
       "      <td>2205.0000</td>\n",
       "      <td>2205.0000</td>\n",
       "      <td>2205.0000</td>\n",
       "      <td>2205.0000</td>\n",
       "      <td>2205.0000</td>\n",
       "      <td>2205.0000</td>\n",
       "      <td>...</td>\n",
       "      <td>2205.0000</td>\n",
       "      <td>2205.0000</td>\n",
       "      <td>2205.0000</td>\n",
       "      <td>2205.0000</td>\n",
       "      <td>2205.0000</td>\n",
       "      <td>2205.0000</td>\n",
       "      <td>2205.0000</td>\n",
       "      <td>2205.0000</td>\n",
       "      <td>2205.0000</td>\n",
       "      <td>2205.0000</td>\n",
       "    </tr>\n",
       "    <tr>\n",
       "      <th>mean</th>\n",
       "      <td>51622.0948</td>\n",
       "      <td>0.4422</td>\n",
       "      <td>0.5066</td>\n",
       "      <td>49.0091</td>\n",
       "      <td>306.1646</td>\n",
       "      <td>26.4032</td>\n",
       "      <td>165.3120</td>\n",
       "      <td>37.7565</td>\n",
       "      <td>27.1283</td>\n",
       "      <td>44.0571</td>\n",
       "      <td>...</td>\n",
       "      <td>0.0345</td>\n",
       "      <td>0.1043</td>\n",
       "      <td>0.2576</td>\n",
       "      <td>0.2163</td>\n",
       "      <td>0.3873</td>\n",
       "      <td>0.0898</td>\n",
       "      <td>0.0245</td>\n",
       "      <td>0.5048</td>\n",
       "      <td>0.1651</td>\n",
       "      <td>0.2159</td>\n",
       "    </tr>\n",
       "    <tr>\n",
       "      <th>std</th>\n",
       "      <td>20713.0638</td>\n",
       "      <td>0.5371</td>\n",
       "      <td>0.5444</td>\n",
       "      <td>28.9321</td>\n",
       "      <td>337.4938</td>\n",
       "      <td>39.7845</td>\n",
       "      <td>217.7845</td>\n",
       "      <td>54.8246</td>\n",
       "      <td>41.1305</td>\n",
       "      <td>51.7362</td>\n",
       "      <td>...</td>\n",
       "      <td>0.1825</td>\n",
       "      <td>0.3057</td>\n",
       "      <td>0.4374</td>\n",
       "      <td>0.4118</td>\n",
       "      <td>0.4872</td>\n",
       "      <td>0.2860</td>\n",
       "      <td>0.1546</td>\n",
       "      <td>0.5001</td>\n",
       "      <td>0.3713</td>\n",
       "      <td>0.4115</td>\n",
       "    </tr>\n",
       "    <tr>\n",
       "      <th>min</th>\n",
       "      <td>1730.0000</td>\n",
       "      <td>0.0000</td>\n",
       "      <td>0.0000</td>\n",
       "      <td>0.0000</td>\n",
       "      <td>0.0000</td>\n",
       "      <td>0.0000</td>\n",
       "      <td>0.0000</td>\n",
       "      <td>0.0000</td>\n",
       "      <td>0.0000</td>\n",
       "      <td>0.0000</td>\n",
       "      <td>...</td>\n",
       "      <td>0.0000</td>\n",
       "      <td>0.0000</td>\n",
       "      <td>0.0000</td>\n",
       "      <td>0.0000</td>\n",
       "      <td>0.0000</td>\n",
       "      <td>0.0000</td>\n",
       "      <td>0.0000</td>\n",
       "      <td>0.0000</td>\n",
       "      <td>0.0000</td>\n",
       "      <td>0.0000</td>\n",
       "    </tr>\n",
       "    <tr>\n",
       "      <th>25%</th>\n",
       "      <td>35196.0000</td>\n",
       "      <td>0.0000</td>\n",
       "      <td>0.0000</td>\n",
       "      <td>24.0000</td>\n",
       "      <td>24.0000</td>\n",
       "      <td>2.0000</td>\n",
       "      <td>16.0000</td>\n",
       "      <td>3.0000</td>\n",
       "      <td>1.0000</td>\n",
       "      <td>9.0000</td>\n",
       "      <td>...</td>\n",
       "      <td>0.0000</td>\n",
       "      <td>0.0000</td>\n",
       "      <td>0.0000</td>\n",
       "      <td>0.0000</td>\n",
       "      <td>0.0000</td>\n",
       "      <td>0.0000</td>\n",
       "      <td>0.0000</td>\n",
       "      <td>0.0000</td>\n",
       "      <td>0.0000</td>\n",
       "      <td>0.0000</td>\n",
       "    </tr>\n",
       "    <tr>\n",
       "      <th>50%</th>\n",
       "      <td>51287.0000</td>\n",
       "      <td>0.0000</td>\n",
       "      <td>0.0000</td>\n",
       "      <td>49.0000</td>\n",
       "      <td>178.0000</td>\n",
       "      <td>8.0000</td>\n",
       "      <td>68.0000</td>\n",
       "      <td>12.0000</td>\n",
       "      <td>8.0000</td>\n",
       "      <td>25.0000</td>\n",
       "      <td>...</td>\n",
       "      <td>0.0000</td>\n",
       "      <td>0.0000</td>\n",
       "      <td>0.0000</td>\n",
       "      <td>0.0000</td>\n",
       "      <td>0.0000</td>\n",
       "      <td>0.0000</td>\n",
       "      <td>0.0000</td>\n",
       "      <td>1.0000</td>\n",
       "      <td>0.0000</td>\n",
       "      <td>0.0000</td>\n",
       "    </tr>\n",
       "    <tr>\n",
       "      <th>75%</th>\n",
       "      <td>68281.0000</td>\n",
       "      <td>1.0000</td>\n",
       "      <td>1.0000</td>\n",
       "      <td>74.0000</td>\n",
       "      <td>507.0000</td>\n",
       "      <td>33.0000</td>\n",
       "      <td>232.0000</td>\n",
       "      <td>50.0000</td>\n",
       "      <td>34.0000</td>\n",
       "      <td>56.0000</td>\n",
       "      <td>...</td>\n",
       "      <td>0.0000</td>\n",
       "      <td>0.0000</td>\n",
       "      <td>1.0000</td>\n",
       "      <td>0.0000</td>\n",
       "      <td>1.0000</td>\n",
       "      <td>0.0000</td>\n",
       "      <td>0.0000</td>\n",
       "      <td>1.0000</td>\n",
       "      <td>0.0000</td>\n",
       "      <td>0.0000</td>\n",
       "    </tr>\n",
       "    <tr>\n",
       "      <th>max</th>\n",
       "      <td>113734.0000</td>\n",
       "      <td>2.0000</td>\n",
       "      <td>2.0000</td>\n",
       "      <td>99.0000</td>\n",
       "      <td>1493.0000</td>\n",
       "      <td>199.0000</td>\n",
       "      <td>1725.0000</td>\n",
       "      <td>259.0000</td>\n",
       "      <td>262.0000</td>\n",
       "      <td>321.0000</td>\n",
       "      <td>...</td>\n",
       "      <td>1.0000</td>\n",
       "      <td>1.0000</td>\n",
       "      <td>1.0000</td>\n",
       "      <td>1.0000</td>\n",
       "      <td>1.0000</td>\n",
       "      <td>1.0000</td>\n",
       "      <td>1.0000</td>\n",
       "      <td>1.0000</td>\n",
       "      <td>1.0000</td>\n",
       "      <td>1.0000</td>\n",
       "    </tr>\n",
       "  </tbody>\n",
       "</table>\n",
       "<p>8 rows × 51 columns</p>\n",
       "</div>"
      ],
      "text/plain": [
       "            Income    Kidhome   Teenhome    Recency   MntWines  MntFruits  \\\n",
       "count    2205.0000  2205.0000  2205.0000  2205.0000  2205.0000  2205.0000   \n",
       "mean    51622.0948     0.4422     0.5066    49.0091   306.1646    26.4032   \n",
       "std     20713.0638     0.5371     0.5444    28.9321   337.4938    39.7845   \n",
       "min      1730.0000     0.0000     0.0000     0.0000     0.0000     0.0000   \n",
       "25%     35196.0000     0.0000     0.0000    24.0000    24.0000     2.0000   \n",
       "50%     51287.0000     0.0000     0.0000    49.0000   178.0000     8.0000   \n",
       "75%     68281.0000     1.0000     1.0000    74.0000   507.0000    33.0000   \n",
       "max    113734.0000     2.0000     2.0000    99.0000  1493.0000   199.0000   \n",
       "\n",
       "       MntMeatProducts  MntFishProducts  MntSweetProducts  MntGoldProds  ...  \\\n",
       "count        2205.0000        2205.0000         2205.0000     2205.0000  ...   \n",
       "mean          165.3120          37.7565           27.1283       44.0571  ...   \n",
       "std           217.7845          54.8246           41.1305       51.7362  ...   \n",
       "min             0.0000           0.0000            0.0000        0.0000  ...   \n",
       "25%            16.0000           3.0000            1.0000        9.0000  ...   \n",
       "50%            68.0000          12.0000            8.0000       25.0000  ...   \n",
       "75%           232.0000          50.0000           34.0000       56.0000  ...   \n",
       "max          1725.0000         259.0000          262.0000      321.0000  ...   \n",
       "\n",
       "       booleanomarital_Widow  booleanomarital_Divorced  \\\n",
       "count              2205.0000                 2205.0000   \n",
       "mean                  0.0345                    0.1043   \n",
       "std                   0.1825                    0.3057   \n",
       "min                   0.0000                    0.0000   \n",
       "25%                   0.0000                    0.0000   \n",
       "50%                   0.0000                    0.0000   \n",
       "75%                   0.0000                    0.0000   \n",
       "max                   1.0000                    1.0000   \n",
       "\n",
       "       booleanomarital_Together  booleanomarital_Single  \\\n",
       "count                 2205.0000               2205.0000   \n",
       "mean                     0.2576                  0.2163   \n",
       "std                      0.4374                  0.4118   \n",
       "min                      0.0000                  0.0000   \n",
       "25%                      0.0000                  0.0000   \n",
       "50%                      0.0000                  0.0000   \n",
       "75%                      1.0000                  0.0000   \n",
       "max                      1.0000                  1.0000   \n",
       "\n",
       "       booleanomarital_Married  booleanoeducation_2n Cycle  \\\n",
       "count                2205.0000                   2205.0000   \n",
       "mean                    0.3873                      0.0898   \n",
       "std                     0.4872                      0.2860   \n",
       "min                     0.0000                      0.0000   \n",
       "25%                     0.0000                      0.0000   \n",
       "50%                     0.0000                      0.0000   \n",
       "75%                     1.0000                      0.0000   \n",
       "max                     1.0000                      1.0000   \n",
       "\n",
       "       booleanoeducation_Basic  booleanoeducation_Graduation  \\\n",
       "count                2205.0000                     2205.0000   \n",
       "mean                    0.0245                        0.5048   \n",
       "std                     0.1546                        0.5001   \n",
       "min                     0.0000                        0.0000   \n",
       "25%                     0.0000                        0.0000   \n",
       "50%                     0.0000                        1.0000   \n",
       "75%                     0.0000                        1.0000   \n",
       "max                     1.0000                        1.0000   \n",
       "\n",
       "       booleanoeducation_Master  booleanoeducation_PhD  \n",
       "count                 2205.0000              2205.0000  \n",
       "mean                     0.1651                 0.2159  \n",
       "std                      0.3713                 0.4115  \n",
       "min                      0.0000                 0.0000  \n",
       "25%                      0.0000                 0.0000  \n",
       "50%                      0.0000                 0.0000  \n",
       "75%                      0.0000                 0.0000  \n",
       "max                      1.0000                 1.0000  \n",
       "\n",
       "[8 rows x 51 columns]"
      ]
     },
     "metadata": {},
     "output_type": "display_data"
    }
   ],
   "source": [
    "#Verificando a estatística descritiva de um todo do dataset\n",
    "\n",
    "describe = df_ifood.describe()\n",
    "describe = round(describe, 4) #arredondando os resultados para facilitar a compreensão\n",
    "display(describe)"
   ]
  },
  {
   "cell_type": "markdown",
   "metadata": {},
   "source": [
    "**Mapeando o perfil dos clientes**\n",
    "\n",
    "- Qual é o maior salário encontrado na nossa base?\n",
    "\n",
    "O maior salário de 113.7K e o menor 1.7K\n",
    "\n",
    "- Qual é a distribuição de salário na nossa base? Temos clientes que ganham muito bem e outros que não ganham muito bem? \n",
    "\n",
    "\n",
    "Diante do nosso histograma, é simetrico a distribuição de salários, a nossa média está em 51.6K e nossa mediana em 51.2K com pouca diferença, temos uma distribuição normal, onde há clientes que ganham melhor e poucos clientes que não ganham tão bem.\n",
    "\n"
   ]
  },
  {
   "cell_type": "code",
   "execution_count": 11,
   "metadata": {},
   "outputs": [
    {
     "data": {
      "text/plain": [
       "<Axes: xlabel='Income', ylabel='Count'>"
      ]
     },
     "execution_count": 11,
     "metadata": {},
     "output_type": "execute_result"
    },
    {
     "data": {
      "image/png": "[encoded data removed]",
      "text/plain": [
       "<Figure size 640x480 with 1 Axes>"
      ]
     },
     "metadata": {},
     "output_type": "display_data"
    }
   ],
   "source": [
    "sns.histplot(df_ifood.Income) #plotando histograma para analisar se há assimetria em nosso gráfico"
   ]
  },
  {
   "cell_type": "code",
   "execution_count": 12,
   "metadata": {},
   "outputs": [
    {
     "data": {
      "text/plain": [
       "<Axes: ylabel='Income'>"
      ]
     },
     "execution_count": 12,
     "metadata": {},
     "output_type": "execute_result"
    },
    {
     "data": {
      "image/png": "[encoded data removed]",
      "text/plain": [
       "<Figure size 640x480 with 1 Axes>"
      ]
     },
     "metadata": {},
     "output_type": "display_data"
    }
   ],
   "source": [
    "sns.boxplot(df_ifood.Income) #plotando boxplot para identificar se os resultados estão conferindo com o histograma"
   ]
  },
  {
   "cell_type": "markdown",
   "metadata": {},
   "source": [
    "Para entendermos que há uma normalidade em nosso histograma, vamos calcular a variância e o SKEW.\n",
    "\n",
    "Nosso skew está em normalidade apesar da curva ser um pouco destoada, porém ela permanece assimétrica. "
   ]
  },
  {
   "cell_type": "code",
   "execution_count": 13,
   "metadata": {},
   "outputs": [
    {
     "data": {
      "text/plain": [
       "'Nossa variância é de: 0.4012'"
      ]
     },
     "metadata": {},
     "output_type": "display_data"
    },
    {
     "data": {
      "text/plain": [
       "'Nosso skew é de: 0.01316'"
      ]
     },
     "metadata": {},
     "output_type": "display_data"
    }
   ],
   "source": [
    "variancia = round(df_ifood['Income'].std()/df_ifood['Income'].mean(),4) #calculandoa  variância\n",
    "\n",
    "skew = round(df_ifood['Income'].skew(),5) #calculando o skew\n",
    "\n",
    "display(f\"Nossa variância é de: {variancia}\")\n",
    "display(f\"Nosso skew é de: {skew}\")"
   ]
  },
  {
   "cell_type": "markdown",
   "metadata": {},
   "source": [
    "## Nossos clientes tem níveis de educação maiores ou menores?\n",
    "\n",
    "Nossa distribuição de educação está em:\n",
    "\n",
    "- *Education_nivel2 - 9%*\n",
    "- *Education_basic - 2%*\n",
    "- *Education-Graduation - 50%*\n",
    "- *Education_Master - 17%*\n",
    "- *Education_PhD - 22%*\n",
    "\n",
    "Diante disso 89% dos clientes possuem graduação completa ou acima disso, e apenas 11% possuem educação básica, é possível afirmar que nossos clientes tem níveis de educação maiores. "
   ]
  },
  {
   "cell_type": "code",
   "execution_count": 14,
   "metadata": {},
   "outputs": [
    {
     "data": {
      "text/plain": [
       "booleanoeducation_Graduation    50.48\n",
       "booleanoeducation_PhD           21.59\n",
       "booleanoeducation_Master        16.51\n",
       "booleanoeducation_2n Cycle       8.98\n",
       "booleanoeducation_Basic          2.45\n",
       "dtype: float64"
      ]
     },
     "metadata": {},
     "output_type": "display_data"
    }
   ],
   "source": [
    "total_education = round(df_ifood[['booleanoeducation_2n Cycle',\n",
    "         'booleanoeducation_Basic',\n",
    "         'booleanoeducation_Graduation',\n",
    "         'booleanoeducation_Master',\n",
    "         'booleanoeducation_PhD']].mean().sort_values(ascending=False) * 100, 2) #cálculando a média de educação por nível\n",
    "\n",
    "display(total_education)\n"
   ]
  },
  {
   "cell_type": "code",
   "execution_count": 15,
   "metadata": {},
   "outputs": [
    {
     "data": {
      "text/plain": [
       "<Axes: xlabel='education_level', ylabel='count'>"
      ]
     },
     "execution_count": 15,
     "metadata": {},
     "output_type": "execute_result"
    },
    {
     "data": {
      "image/png": "[encoded data removed]",
      "text/plain": [
       "<Figure size 640x480 with 1 Axes>"
      ]
     },
     "metadata": {},
     "output_type": "display_data"
    }
   ],
   "source": [
    "sns.countplot(x=df_ifood['education_level']) #contabilizando em gráfico a quantidade de clientes por nível de educação"
   ]
  },
  {
   "cell_type": "markdown",
   "metadata": {},
   "source": [
    "\n",
    "E como está a distribuição dos nossos clientes em relação ao estado civil?\n",
    "\n",
    "Nossa base de clientes está distribuida dessa maneira no estado civil:\n",
    "\n",
    "* *Viúvos(as) - 3%*\n",
    "* *Divorciados(as) - 10%*\n",
    "* *União Estável - 26%*\n",
    "* *Solteiros(as) - 22%*\n",
    "* *Casados - 39%*\n",
    "\n",
    "Clientes com estado civil casado ou união estável ocupam a maior parte da nossa base. "
   ]
  },
  {
   "cell_type": "code",
   "execution_count": 16,
   "metadata": {},
   "outputs": [
    {
     "data": {
      "text/plain": [
       "booleanomarital_Married     38.73\n",
       "booleanomarital_Together    25.76\n",
       "booleanomarital_Single      21.63\n",
       "booleanomarital_Divorced    10.43\n",
       "booleanomarital_Widow        3.45\n",
       "dtype: float64"
      ]
     },
     "metadata": {},
     "output_type": "display_data"
    }
   ],
   "source": [
    "total_marital = round(df_ifood[['booleanomarital_Widow',\n",
    "                                'booleanomarital_Divorced',\n",
    "                                'booleanomarital_Together',\n",
    "                                'booleanomarital_Single',\n",
    "                                'booleanomarital_Married']].mean().sort_values(ascending=False) * 100, 2) #cálculando a média de clientes por estado civil\n",
    "\n",
    "display(total_marital)"
   ]
  },
  {
   "cell_type": "code",
   "execution_count": 17,
   "metadata": {},
   "outputs": [
    {
     "data": {
      "text/plain": [
       "<Axes: xlabel='marital_status', ylabel='count'>"
      ]
     },
     "execution_count": 17,
     "metadata": {},
     "output_type": "execute_result"
    },
    {
     "data": {
      "image/png": "[encoded data removed]",
      "text/plain": [
       "<Figure size 640x480 with 1 Axes>"
      ]
     },
     "metadata": {},
     "output_type": "display_data"
    }
   ],
   "source": [
    "sns.countplot(x=df_ifood['marital_status']) #contabilizando em gráfico a quantidade de clientes por estado civil"
   ]
  },
  {
   "cell_type": "markdown",
   "metadata": {},
   "source": [
    "## Correlacionando os dados ##"
   ]
  },
  {
   "cell_type": "markdown",
   "metadata": {},
   "source": [
    "Vamos criar algumas hipoteses para trabalharmos em cima delas.\n",
    "\n",
    "- Qual é a relação de estado civil com número de filhos? Será que as pessoas casadas têm um maior número de filhos? \n",
    "\n",
    "Não é possível afirmar a relação de estado civil com filhos, a média de filhos para pessoas casadas é de 1 filho ou nenhum, teriamos que testar hipoteses para concluimos melhor.\n"
   ]
  },
  {
   "cell_type": "code",
   "execution_count": 18,
   "metadata": {},
   "outputs": [
    {
     "data": {
      "text/plain": [
       "marital_status\n",
       "Divorced    1.008696\n",
       "Married     0.967213\n",
       "Single      0.859539\n",
       "Together    0.980634\n",
       "Widow       0.881579\n",
       "Name: kids, dtype: float64"
      ]
     },
     "metadata": {},
     "output_type": "display_data"
    }
   ],
   "source": [
    "media_kids = df_ifood.groupby('marital_status')['kids'].mean() #cálculando a média de filhos por estado civil\n",
    "display(media_kids)"
   ]
  },
  {
   "cell_type": "code",
   "execution_count": 19,
   "metadata": {},
   "outputs": [
    {
     "data": {
      "text/html": [
       "<div>\n",
       "<style scoped>\n",
       "    .dataframe tbody tr th:only-of-type {\n",
       "        vertical-align: middle;\n",
       "    }\n",
       "\n",
       "    .dataframe tbody tr th {\n",
       "        vertical-align: top;\n",
       "    }\n",
       "\n",
       "    .dataframe thead th {\n",
       "        text-align: right;\n",
       "    }\n",
       "</style>\n",
       "<table border=\"1\" class=\"dataframe\">\n",
       "  <thead>\n",
       "    <tr style=\"text-align: right;\">\n",
       "      <th></th>\n",
       "      <th>count</th>\n",
       "      <th>mean</th>\n",
       "      <th>std</th>\n",
       "      <th>min</th>\n",
       "      <th>25%</th>\n",
       "      <th>50%</th>\n",
       "      <th>75%</th>\n",
       "      <th>max</th>\n",
       "    </tr>\n",
       "    <tr>\n",
       "      <th>marital_status</th>\n",
       "      <th></th>\n",
       "      <th></th>\n",
       "      <th></th>\n",
       "      <th></th>\n",
       "      <th></th>\n",
       "      <th></th>\n",
       "      <th></th>\n",
       "      <th></th>\n",
       "    </tr>\n",
       "  </thead>\n",
       "  <tbody>\n",
       "    <tr>\n",
       "      <th>Divorced</th>\n",
       "      <td>230.0</td>\n",
       "      <td>1.008696</td>\n",
       "      <td>0.741716</td>\n",
       "      <td>0.0</td>\n",
       "      <td>1.0</td>\n",
       "      <td>1.0</td>\n",
       "      <td>1.0</td>\n",
       "      <td>3.0</td>\n",
       "    </tr>\n",
       "    <tr>\n",
       "      <th>Married</th>\n",
       "      <td>854.0</td>\n",
       "      <td>0.967213</td>\n",
       "      <td>0.732019</td>\n",
       "      <td>0.0</td>\n",
       "      <td>0.0</td>\n",
       "      <td>1.0</td>\n",
       "      <td>1.0</td>\n",
       "      <td>3.0</td>\n",
       "    </tr>\n",
       "    <tr>\n",
       "      <th>Single</th>\n",
       "      <td>477.0</td>\n",
       "      <td>0.859539</td>\n",
       "      <td>0.777289</td>\n",
       "      <td>0.0</td>\n",
       "      <td>0.0</td>\n",
       "      <td>1.0</td>\n",
       "      <td>1.0</td>\n",
       "      <td>3.0</td>\n",
       "    </tr>\n",
       "    <tr>\n",
       "      <th>Together</th>\n",
       "      <td>568.0</td>\n",
       "      <td>0.980634</td>\n",
       "      <td>0.749823</td>\n",
       "      <td>0.0</td>\n",
       "      <td>0.0</td>\n",
       "      <td>1.0</td>\n",
       "      <td>1.0</td>\n",
       "      <td>3.0</td>\n",
       "    </tr>\n",
       "    <tr>\n",
       "      <th>Widow</th>\n",
       "      <td>76.0</td>\n",
       "      <td>0.881579</td>\n",
       "      <td>0.747745</td>\n",
       "      <td>0.0</td>\n",
       "      <td>0.0</td>\n",
       "      <td>1.0</td>\n",
       "      <td>1.0</td>\n",
       "      <td>2.0</td>\n",
       "    </tr>\n",
       "  </tbody>\n",
       "</table>\n",
       "</div>"
      ],
      "text/plain": [
       "                count      mean       std  min  25%  50%  75%  max\n",
       "marital_status                                                    \n",
       "Divorced        230.0  1.008696  0.741716  0.0  1.0  1.0  1.0  3.0\n",
       "Married         854.0  0.967213  0.732019  0.0  0.0  1.0  1.0  3.0\n",
       "Single          477.0  0.859539  0.777289  0.0  0.0  1.0  1.0  3.0\n",
       "Together        568.0  0.980634  0.749823  0.0  0.0  1.0  1.0  3.0\n",
       "Widow            76.0  0.881579  0.747745  0.0  0.0  1.0  1.0  2.0"
      ]
     },
     "execution_count": 19,
     "metadata": {},
     "output_type": "execute_result"
    }
   ],
   "source": [
    "df_ifood.groupby(['marital_status'])['kids'].describe() #verificando as tendencias estatísticas por estado civiil em relação à quantidade de filhos "
   ]
  },
  {
   "cell_type": "code",
   "execution_count": 22,
   "metadata": {},
   "outputs": [
    {
     "data": {
      "image/png": "[encoded data removed]",
      "text/plain": [
       "<Figure size 640x480 with 1 Axes>"
      ]
     },
     "metadata": {},
     "output_type": "display_data"
    }
   ],
   "source": [
    "fig1 = sns.barplot(x='marital_status', y='kids', data=df_ifood) #plotando boxplot para compreender se há correlação entre as variáveis"
   ]
  },
  {
   "cell_type": "markdown",
   "metadata": {},
   "source": [
    "As pessoas gastam mais ou menos em nossa plataforma quando têm filhos?\n",
    "\n",
    "Podemos afirmar que pessoas com mais filhos gastam menos em relação à pessoas com menos filhos ou nenhum filho, a média de gasto quando se têm 3 filhos é de 237,38, quando vemos pessoas com 2 filhos cai um pouco para 221,57 e quando vemos pessoas com apenas um filho a média sobe para 434,53 e quando não há filhos a média é de 1K. "
   ]
  },
  {
   "cell_type": "code",
   "execution_count": null,
   "metadata": {},
   "outputs": [
    {
     "name": "stdout",
     "output_type": "stream",
     "text": [
      "kids\n",
      "0    1041.21\n",
      "1     434.53\n",
      "2     221.57\n",
      "3     237.38\n",
      "Name: expenses, dtype: float64\n",
      "kids\n",
      "0    1106.5\n",
      "1     264.0\n",
      "2      84.0\n",
      "3      62.0\n",
      "Name: expenses, dtype: float64\n"
     ]
    }
   ],
   "source": [
    "expense_mean = round(df_ifood.groupby(['kids'])['expenses'].mean(),2) #cálculo a média de crianças e a média de gastos\n",
    "expense_median = round(df_ifood.groupby(['kids'])['expenses'].median(),2) #cálculando a mediana de crianças e a mediana de gastos\n",
    "\n",
    "print(expense_mean)\n",
    "print(expense_median)"
   ]
  },
  {
   "cell_type": "code",
   "execution_count": null,
   "metadata": {},
   "outputs": [
    {
     "data": {
      "text/plain": [
       "<Axes: xlabel='kids', ylabel='expenses'>"
      ]
     },
     "execution_count": 120,
     "metadata": {},
     "output_type": "execute_result"
    },
    {
     "data": {
      "image/png": "[encoded data removed]",
      "text/plain": [
       "<Figure size 640x480 with 1 Axes>"
      ]
     },
     "metadata": {},
     "output_type": "display_data"
    }
   ],
   "source": [
    "sns.boxplot(x='kids', y='expenses', data=df_ifood) #plotando em boxplot para identificar se nossa hipotese é válida ou não"
   ]
  },
  {
   "cell_type": "markdown",
   "metadata": {},
   "source": [
    "Para entendermos a hipotese mencionada acima, vamos analisar a média de gasto por estado civil.\n",
    "\n",
    "A diferença entre os estados civis e seus gastos são poucas. "
   ]
  },
  {
   "cell_type": "code",
   "execution_count": null,
   "metadata": {},
   "outputs": [
    {
     "data": {
      "text/plain": [
       "marital_status\n",
       "Divorced    569.05\n",
       "Married     546.65\n",
       "Single      569.27\n",
       "Together    564.35\n",
       "Widow       672.11\n",
       "Name: expenses, dtype: float64"
      ]
     },
     "metadata": {},
     "output_type": "display_data"
    },
    {
     "data": {
      "text/plain": [
       "<Axes: xlabel='marital_status', ylabel='expenses'>"
      ]
     },
     "execution_count": 147,
     "metadata": {},
     "output_type": "execute_result"
    },
    {
     "data": {
      "image/png": "[encoded data removed]",
      "text/plain": [
       "<Figure size 640x480 with 1 Axes>"
      ]
     },
     "metadata": {},
     "output_type": "display_data"
    }
   ],
   "source": [
    "media_expense = df_ifood.groupby(['marital_status'])['expenses'].mean() #cálculando a média de gastos por estado civil\n",
    "display(round(media_expense,2))\n",
    "\n",
    "sns.boxplot(x='marital_status', y='expenses', data=df_ifood) #plotando em boxplot para identificar padrões"
   ]
  },
  {
   "cell_type": "markdown",
   "metadata": {},
   "source": [
    "- Pessoas que têm um maior salário gastam mais? \n",
    "\n",
    "Como nosso histograma tem crescimento para cima, indica uma correlação positiva nesse caso, mas para tirarmos mais a limpo, fiz a correlação entre as variáveis que indicou 0,8230, ou seja, é positiva. "
   ]
  },
  {
   "cell_type": "code",
   "execution_count": null,
   "metadata": {},
   "outputs": [
    {
     "data": {
      "text/plain": [
       "<Axes: xlabel='Income', ylabel='expenses'>"
      ]
     },
     "execution_count": 140,
     "metadata": {},
     "output_type": "execute_result"
    },
    {
     "data": {
      "image/png": "[encoded data removed]",
      "text/plain": [
       "<Figure size 640x480 with 1 Axes>"
      ]
     },
     "metadata": {},
     "output_type": "display_data"
    }
   ],
   "source": [
    "sns.histplot(x='Income', y='expenses', data=df_ifood) #plotando histograma para analisar correlação de salários maiores com maiores gastos"
   ]
  },
  {
   "cell_type": "code",
   "execution_count": 23,
   "metadata": {},
   "outputs": [
    {
     "data": {
      "text/plain": [
       "82.30660021398378"
      ]
     },
     "execution_count": 23,
     "metadata": {},
     "output_type": "execute_result"
    }
   ],
   "source": [
    "df_ifood[\"expenses\"].corr(df_ifood['Income']) * 100 #cálculando a correlação de person entre as duas variáveis"
   ]
  },
  {
   "cell_type": "markdown",
   "metadata": {},
   "source": [
    "Verificando como foi a aceitação da campanha do marketing em relação aos nossos clientes"
   ]
  },
  {
   "cell_type": "code",
   "execution_count": null,
   "metadata": {},
   "outputs": [
    {
     "data": {
      "text/plain": [
       "<Axes: xlabel='AcceptedCmpOverall', ylabel='expenses'>"
      ]
     },
     "execution_count": 174,
     "metadata": {},
     "output_type": "execute_result"
    },
    {
     "data": {
      "image/png": "[encoded data removed]",
      "text/plain": [
       "<Figure size 640x480 with 1 Axes>"
      ]
     },
     "metadata": {},
     "output_type": "display_data"
    }
   ],
   "source": [
    "sns.boxplot(x='AcceptedCmpOverall', y='expenses', data=df_ifood) #plotando boxplot para identificar se há correlação entre aceitação maior e gastos."
   ]
  },
  {
   "cell_type": "code",
   "execution_count": null,
   "metadata": {},
   "outputs": [
    {
     "data": {
      "text/plain": [
       "AcceptedCmpOverall\n",
       "0     440.551803\n",
       "1     855.767081\n",
       "2    1341.950617\n",
       "3    1615.840909\n",
       "4    1445.454545\n",
       "Name: expenses, dtype: float64"
      ]
     },
     "execution_count": 175,
     "metadata": {},
     "output_type": "execute_result"
    }
   ],
   "source": [
    "df_ifood.groupby(['AcceptedCmpOverall'])['expenses'].mean() #cálculando a média de gasto conforme a aceitação geral"
   ]
  },
  {
   "cell_type": "code",
   "execution_count": 24,
   "metadata": {},
   "outputs": [
    {
     "data": {
      "text/plain": [
       "46.12794037688634"
      ]
     },
     "execution_count": 24,
     "metadata": {},
     "output_type": "execute_result"
    }
   ],
   "source": [
    "df_ifood['AcceptedCmpOverall'].corr(df_ifood['expenses']) * 100 #cálculando a correlação de person em relação da aceitação geral com aumento de gastos"
   ]
  },
  {
   "cell_type": "markdown",
   "metadata": {},
   "source": [
    "Os clientes que mais tiveram aceitação em nossas campanhas considerando foram clientes casados e morando juntos, mas para filtrar melhor, quanto menos filhos, ou seja um ou nenhum, maiores são as aceitações e os gastos."
   ]
  },
  {
   "cell_type": "code",
   "execution_count": null,
   "metadata": {},
   "outputs": [
    {
     "data": {
      "text/plain": [
       "marital_status\n",
       "Divorced    230\n",
       "Married     854\n",
       "Single      477\n",
       "Together    568\n",
       "Widow        76\n",
       "Name: AcceptedCmpOverall, dtype: int64"
      ]
     },
     "execution_count": 197,
     "metadata": {},
     "output_type": "execute_result"
    }
   ],
   "source": [
    "df_ifood.groupby(['marital_status'])['AcceptedCmpOverall'].count() #contando a quantidade de aceitação geral por estado civil"
   ]
  },
  {
   "cell_type": "code",
   "execution_count": null,
   "metadata": {},
   "outputs": [
    {
     "data": {
      "text/plain": [
       "marital_status  kids\n",
       "Divorced        0        57\n",
       "                1       119\n",
       "                2        49\n",
       "                3         5\n",
       "Married         0       227\n",
       "                1       444\n",
       "                2       167\n",
       "                3        16\n",
       "Single          0       168\n",
       "                1       222\n",
       "                2        73\n",
       "                3        14\n",
       "Together        0       150\n",
       "                1       294\n",
       "                2       109\n",
       "                3        15\n",
       "Widow           0        26\n",
       "                1        33\n",
       "                2        17\n",
       "Name: AcceptedCmpOverall, dtype: int64"
      ]
     },
     "execution_count": 185,
     "metadata": {},
     "output_type": "execute_result"
    }
   ],
   "source": [
    "df_ifood.groupby(['marital_status', 'kids'])['AcceptedCmpOverall'].count() #contando a aceitação geral por estado civil e quantidade de filhos"
   ]
  },
  {
   "cell_type": "markdown",
   "metadata": {},
   "source": [
    "É possível afirmar moderadamente que clientes que tem maior aceitação de campanhas, possuem uma elevação em seus gastos, ou seja, há uma uma correlação moderada positiva quanto a isso, sugerindo que campanhas eficazes podem ser uma estratégia relevante para aumentar o consumo dos clientes."
   ]
  },
  {
   "cell_type": "markdown",
   "metadata": {},
   "source": [
    "## Resolucionando o problema de négocio ## "
   ]
  },
  {
   "cell_type": "markdown",
   "metadata": {},
   "source": []
  }
 ],
 "metadata": {
  "kernelspec": {
   "display_name": "Python 3",
   "language": "python",
   "name": "python3"
  },
  "language_info": {
   "codemirror_mode": {
    "name": "ipython",
    "version": 3
   },
   "file_extension": ".py",
   "mimetype": "text/x-python",
   "name": "python",
   "nbconvert_exporter": "python",
   "pygments_lexer": "ipython3",
   "version": "3.11.9"
  },
  "orig_nbformat": 4
 },
 "nbformat": 4,
 "nbformat_minor": 2
}
